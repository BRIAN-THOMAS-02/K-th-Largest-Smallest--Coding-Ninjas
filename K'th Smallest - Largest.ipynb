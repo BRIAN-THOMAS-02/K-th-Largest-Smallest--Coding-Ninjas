{
 "cells": [
  {
   "cell_type": "markdown",
   "id": "f58abf7b",
   "metadata": {},
   "source": [
    "<div class=\"alert alert-block alert-success\" align=\"center\">\n",
    "\n",
    "# Coding Ninjas \n",
    "# (Interview Problem)\n",
    "\n",
    "</div>"
   ]
  },
  {
   "cell_type": "markdown",
   "id": "fede0911",
   "metadata": {},
   "source": [
    "***"
   ]
  },
  {
   "cell_type": "markdown",
   "id": "1ea17df1",
   "metadata": {},
   "source": [
    "<div class=\"alert alert-block alert-warning\" align=\"center\">\n",
    " \n",
    "# ***K'th Smallest / Largest***\n",
    "\n",
    "</div>"
   ]
  },
  {
   "cell_type": "markdown",
   "id": "95f525a8",
   "metadata": {},
   "source": [
    "<div>\n",
    "\n",
    " <b> Given an array and a number K where K is smaller than size of array, we need to find the K'th smallest element and K'th largest element in the given array. It is given that all array elements are not distinct. <br>\n",
    "     \n",
    "<b> Note: <br>\n",
    "<b> If element is not present, then return -1.\n",
    "\n",
    "</div>"
   ]
  },
  {
   "cell_type": "markdown",
   "id": "1df51402",
   "metadata": {},
   "source": [
    "***"
   ]
  },
  {
   "cell_type": "markdown",
   "id": "eba7c665",
   "metadata": {},
   "source": [
    "<div>\n",
    "\n",
    "### <b> Input Format:\n",
    "    \n",
    "<b> The first line of the input contains an integer T denoting the number of test cases. <br>\n",
    "\n",
    "<b> The first line of each test case contains two space-separated integers N and K, as described in the problem statement. <br>\n",
    "\n",
    "<b> The second line of each test case contains N space-separated integers, representing the elements of the array. <br>\n",
    "    \n",
    "</div>"
   ]
  },
  {
   "cell_type": "markdown",
   "id": "3122b007",
   "metadata": {},
   "source": [
    "<div>\n",
    "\n",
    "### <b> Output Format: \n",
    "    \n",
    "<b> The only line of output prints the K'th largest and K'th smallest element separated by space. <br>\n",
    "    \n",
    "</div>"
   ]
  },
  {
   "cell_type": "markdown",
   "id": "8251b454",
   "metadata": {},
   "source": [
    "***"
   ]
  },
  {
   "cell_type": "markdown",
   "id": "f3e0543f",
   "metadata": {},
   "source": [
    "<div>\n",
    "\n",
    "### <b> Sample Input 1: \n",
    "    \n",
    "1               <br>\n",
    "7 4             <br>\n",
    "3 4 5 6 9 3 1           <br>\n",
    "\n",
    "</div>"
   ]
  },
  {
   "cell_type": "markdown",
   "id": "343c7318",
   "metadata": {},
   "source": [
    "<div>\n",
    "\n",
    "### <b> Sample Output 1:\n",
    "    \n",
    "5 4\n",
    "\n",
    "</div>"
   ]
  },
  {
   "cell_type": "markdown",
   "id": "5af2c78c",
   "metadata": {},
   "source": [
    "***"
   ]
  },
  {
   "cell_type": "markdown",
   "id": "2489ae7e",
   "metadata": {},
   "source": [
    "<div  class=\"alert alert-block alert-success\" align=\"center\">\n",
    "\n",
    "# Whole Program\n",
    "\n",
    "</div>"
   ]
  },
  {
   "cell_type": "code",
   "execution_count": 5,
   "id": "d9b6259e",
   "metadata": {},
   "outputs": [
    {
     "name": "stdout",
     "output_type": "stream",
     "text": [
      "1\n",
      "7 4\n",
      "3 4 5 6 9 3 1\n",
      "\n",
      "-------------------------------------------------------------------------------------------------------------------\n",
      "\n",
      "Input Array  :  [3, 4, 5, 6, 9, 3, 1]\n",
      "\n",
      "Sorted Array :  [1, 3, 3, 4, 5, 6, 9]\n",
      "\n",
      "Array converted to Set :  {1, 3, 4, 5, 6, 9}\n",
      "\n",
      "Set converted to List  :  [1, 3, 4, 5, 6, 9]\n",
      "\n",
      "Checking if Lenght of Array is less than 'k'\n",
      "len(arr) < k | Boolean\n",
      "    6    < 4 |  False\n",
      "Since False, returned the desired numbers\n",
      "\n",
      "Count the 4 th Largest and Smallest Number from the array :  [1, 3, 4, 5, 6, 9]\n",
      "\n",
      " 5 4 \n",
      "\n",
      "4 is the 4 th Smallest Number in the Array :  [1, 3, 4, 5, 6, 9]\n",
      "5 is the 4 th Largest  Number in the Array :  [1, 3, 4, 5, 6, 9]\n"
     ]
    }
   ],
   "source": [
    "def kthSmallestLargest(arr,k):\n",
    "\n",
    "    arr.sort()\n",
    "    print(\"\\nSorted Array : \", arr)\n",
    "    \n",
    "    arr = set(arr)\n",
    "    print(\"\\nArray converted to Set : \", arr)\n",
    "    \n",
    "    arr = list(arr)\n",
    "    print(\"\\nSet converted to List  : \", arr)\n",
    "    \n",
    "    print(\"\\nChecking if Lenght of Array is less than 'k'\")\n",
    "    print(\"len(arr) < k | Boolean\")\n",
    "    print(\"   \", len(arr), \"   <\", k, \"| \", (len(arr)<k))\n",
    "    if(len(arr)<k):\n",
    "        print(\"Since True, returned -1\\n\")\n",
    "        return (-1,-1)\n",
    "    else:\n",
    "        print(\"Since False, returned the desired numbers\\n\")\n",
    "        \n",
    "        print(\"Count the\", k, (\"th Largest and Smallest Number from the array : \"), arr)\n",
    "        return arr[k-1],arr[-k],arr\n",
    "    \n",
    "\n",
    "t = int(input())\n",
    "global arr\n",
    "\n",
    "while t > 0:\n",
    "    n,k = map(int,input().split())\n",
    "    arr = [int(i) for i in input().split()]\n",
    "    print(\"\\n-------------------------------------------------------------------------------------------------------------------\")\n",
    "    print('\\nInput Array  : ', arr)\n",
    "    \n",
    "    large,small,final_arr = kthSmallestLargest(arr,k)\n",
    "    \n",
    "    print('\\n', large,small,'\\n')\n",
    "    print(small, \"is the\", k, \"th Smallest Number in the Array : \", final_arr)\n",
    "    print(large, \"is the\", k, \"th Largest  Number in the Array : \", final_arr)\n",
    "    \n",
    "    t -= 1"
   ]
  },
  {
   "cell_type": "markdown",
   "id": "a9d98237",
   "metadata": {},
   "source": [
    "***"
   ]
  },
  {
   "cell_type": "markdown",
   "id": "23e51761",
   "metadata": {},
   "source": [
    "<div class=\"alert alert-block alert-success\">\n",
    "\n",
    "## Basically what we are doing is:\n",
    "\n",
    "#### &nbsp;&nbsp;&nbsp;&nbsp;&nbsp; 1] Sorting the Array <br>\n",
    "\n",
    "#### &nbsp;&nbsp;&nbsp;&nbsp;&nbsp; 2] Removing Repeating Numbers <br><br>\n",
    "\n",
    "\n",
    "&nbsp;&nbsp;&nbsp;&nbsp;&nbsp;&nbsp;&nbsp;&nbsp;&nbsp;&nbsp;&nbsp;&nbsp;&nbsp;&nbsp;&nbsp; Now since numbers are Sorted <b>(Ranked)</b> <br><br>\n",
    "\n",
    "\n",
    "#### &nbsp;&nbsp;&nbsp;&nbsp;&nbsp; 3] Just finding the K'th element : <br>\n",
    "\n",
    "&nbsp;&nbsp;&nbsp;&nbsp;&nbsp;&nbsp;&nbsp;&nbsp;&nbsp;&nbsp; a) If we find the K'th Element from   <u><b>LEFT TO RIGHT</b></u> \n",
    "  we get the <b>Largest Element </b> <br>\n",
    "&nbsp;&nbsp;&nbsp;&nbsp;&nbsp;&nbsp;&nbsp;&nbsp;&nbsp;&nbsp; b) If we find the K'th Element from   <u><b>RIGHT TO LEFT</b></u>   we get the <b>Smallest Element</b>\n",
    "    \n",
    "</div>"
   ]
  },
  {
   "cell_type": "markdown",
   "id": "6d5b2570",
   "metadata": {},
   "source": [
    "***"
   ]
  },
  {
   "cell_type": "markdown",
   "id": "ce9cd458",
   "metadata": {},
   "source": [
    "<div class=\"alert alert-block alert-warning\" align=\"center\">\n",
    " \n",
    "# ***Part by Part Explanation***\n",
    "\n",
    "</div>"
   ]
  },
  {
   "cell_type": "markdown",
   "id": "9754a301",
   "metadata": {},
   "source": [
    "***"
   ]
  },
  {
   "cell_type": "markdown",
   "id": "62dc61c4",
   "metadata": {},
   "source": [
    "<div>\n",
    "\n",
    "### 1] Taking input for Number of Test Cases: <br>\n",
    "\n",
    "</div>"
   ]
  },
  {
   "cell_type": "code",
   "execution_count": null,
   "id": "4d08155c",
   "metadata": {},
   "outputs": [],
   "source": [
    "test_cases = int(input())"
   ]
  },
  {
   "cell_type": "markdown",
   "id": "94b47463",
   "metadata": {},
   "source": [
    "***"
   ]
  },
  {
   "cell_type": "markdown",
   "id": "8f24fce1",
   "metadata": {},
   "source": [
    "### 2] Initiating a while loop if 'test_cases' > 0 : <br>\n",
    "    \n",
    "&nbsp;&nbsp;&nbsp;&nbsp;&nbsp; 1) <u><b>num</b></u> = Taking input for how many numbers are we going to input <br>\n",
    "&nbsp;&nbsp;&nbsp;&nbsp;&nbsp; 2) &nbsp;&nbsp; <u><b>k</b></u> &nbsp;&nbsp;  =  K'th Largest / Smallest Number <br>\n",
    "    \n",
    "&nbsp;&nbsp;&nbsp;&nbsp;&nbsp; 3) &nbsp;&nbsp; <u><b>arr</b></u> = Taking Input of all the numbers into ar array! <br>\n",
    "    \n",
    "    \n",
    "&nbsp;&nbsp;&nbsp;&nbsp;&nbsp; 4) Calling the <u><b>'kthSmallestLargest'</b></u> Function and passing the <u><b>'arr'</b></u> and <u><b>'k'</b></u> as parameters \n",
    "\n",
    "#### &nbsp;&nbsp;&nbsp;&nbsp;&nbsp; 5) After completing the Function provides the output!"
   ]
  },
  {
   "cell_type": "code",
   "execution_count": null,
   "id": "d52a0b94",
   "metadata": {},
   "outputs": [],
   "source": [
    "global arr\n",
    "\n",
    "while test_cases > 0:\n",
    "    num,k = map(int,input().split())\n",
    "    arr = [int(i) for i in input().split()]\n",
    "    print(\"\\n-------------------------------------------------------------------------------------------------------------------\")\n",
    "    print('\\nInput Array  : ', arr)\n",
    "    \n",
    "    large,small,final_arr = kthSmallestLargest(arr,k)\n",
    "    \n",
    "    print('\\n', large,small,'\\n')\n",
    "    print(small, \"is the\", k, \"th Smallest Number in the Array : \", final_arr)\n",
    "    print(large, \"is the\", k, \"th Largest  Number in the Array : \", final_arr)\n",
    "    \n",
    "    t -= 1"
   ]
  },
  {
   "cell_type": "markdown",
   "id": "f814d18f",
   "metadata": {},
   "source": [
    "***"
   ]
  },
  {
   "cell_type": "markdown",
   "id": "2989b0c8",
   "metadata": {},
   "source": [
    "<div class=\"alert alert-block alert-warning\">\n",
    "\n",
    "## 3] Function 'kthSmallestLargest'\n",
    "    \n",
    "</div>"
   ]
  },
  {
   "cell_type": "markdown",
   "id": "3ca6a054",
   "metadata": {},
   "source": [
    "&nbsp;&nbsp;&nbsp;&nbsp;&nbsp; <b> 1) </b> Sorting the Array.\n",
    "\n",
    "&nbsp;&nbsp;&nbsp;&nbsp;&nbsp; <b> 2) </b> Converting Array into Set. <u><b>(to get rid of repeating elements). </b></u>\n",
    "\n",
    "&nbsp;&nbsp;&nbsp;&nbsp;&nbsp; <b> 3) </b> Converting Set into <b> List again. </b>\n",
    "\n",
    "#### &nbsp;&nbsp;&nbsp;&nbsp;&nbsp; 4) Then Cheking if the 'lenght of array' < 'k'\n",
    "\n",
    "&nbsp;&nbsp;&nbsp;&nbsp;&nbsp;&nbsp;&nbsp;&nbsp;&nbsp;&nbsp;&nbsp;&nbsp;&nbsp;&nbsp;&nbsp; a) If less print -1.\n",
    "\n",
    "&nbsp;&nbsp;&nbsp;&nbsp;&nbsp;&nbsp;&nbsp;&nbsp;&nbsp;&nbsp;&nbsp;&nbsp;&nbsp;&nbsp;&nbsp; b) If not then print the respective digits."
   ]
  },
  {
   "cell_type": "code",
   "execution_count": null,
   "id": "ea5b4983",
   "metadata": {},
   "outputs": [],
   "source": [
    "def kthSmallestLargest(arr,k):\n",
    "\n",
    "    arr.sort()\n",
    "    print(\"\\nSorted Array : \", arr)\n",
    "    \n",
    "    arr = set(arr)\n",
    "    print(\"\\nArray converted to Set : \", arr)\n",
    "    \n",
    "    arr = list(arr)\n",
    "    print(\"\\nSet converted to List  : \", arr)\n",
    "    \n",
    "    print(\"\\nChecking if Lenght of Array is less than 'k'\")\n",
    "    print(\"len(arr) < k | Boolean\")\n",
    "    print(\"   \", len(arr), \"   <\", k, \"| \", (len(arr)<k))\n",
    "    if(len(arr) < k):\n",
    "        print(\"Since True, returned -1\\n\")\n",
    "        return (-1,-1)\n",
    "    else:\n",
    "        print(\"Since False, returned the desired numbers\\n\")\n",
    "        \n",
    "        print(\"Count the\", k, (\"th Largest and Smallest Number from the array : \"), arr)\n",
    "        return arr[k-1],arr[-k],arr"
   ]
  },
  {
   "cell_type": "markdown",
   "id": "e29c9a21",
   "metadata": {},
   "source": [
    "<div class=\"alert alert-block alert-success\" align=\"center\">\n",
    " \n",
    "# ***Thank - You***\n",
    "\n",
    "</div>"
   ]
  }
 ],
 "metadata": {
  "kernelspec": {
   "display_name": "Python 3 (ipykernel)",
   "language": "python",
   "name": "python3"
  },
  "language_info": {
   "codemirror_mode": {
    "name": "ipython",
    "version": 3
   },
   "file_extension": ".py",
   "mimetype": "text/x-python",
   "name": "python",
   "nbconvert_exporter": "python",
   "pygments_lexer": "ipython3",
   "version": "3.8.10"
  }
 },
 "nbformat": 4,
 "nbformat_minor": 5
}
